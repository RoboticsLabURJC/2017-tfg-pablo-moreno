{
 "cells": [
  {
   "cell_type": "markdown",
   "metadata": {},
   "source": [
    "# Drone_Cat_Mouse Practice"
   ]
  },
  {
   "cell_type": "markdown",
   "metadata": {},
   "source": [
    "<img src=\"images/jderobot.png\" width=\"15%\" height=\"15%\" style=\"float:left;padding-right:15px\"/>\n",
    "\n",
    "## 1- Introduction\n",
    "---\n",
    "\n",
    "In this exercise we are going to implement a \"Formula 1\" intelligence to follow a red line across the circuit. To do it, the student needs to have at least the next knowledge:\n",
    "* Python programming skills\n",
    "* Color spaces (RGB, HSV, etc)\n",
    "* Basic understanding of [OpenCV library](http://opencv.org/)\n",
    "\n",
    "## 2- Exercise components\n",
    "\n",
    "<img src=\"images/drones.png\" width=\"30%\" height=\"30%\" style=\"float:right;padding-right:15px\"/>\n",
    "### 2.1- Gazebo simulator\n",
    "---\n",
    "Gazebo simulator will be running in the background. The Gazebo world employed for this exercise has one element: a simulated Formula1 car robot.The Formula1 robot will provide camera where the images will be provided to the student and a laser where the walls will be detected. \n",
    "\n",
    "### 2.2 Cat Component\n",
    "This component has been developed specifically to carry out this exercise. This component connects to Gazebo to teleoperate the drone (or send orders to it) and receives images from its camera. The student has to modify this component and add code to accomplish the exercise. In particular, it is required to modify the execute() method.\n",
    "\n",
    "### 2.3 Mouse Component\n",
    "To run the mouse drone, you must download the mice folder:\n",
    " - cd /homme/XXXXX/Jupyter/drone_cat_mouse\n",
    " - mkdir mice\n",
    " - wget http://jderobot.org/store/jmplaza/uploads/jderobot-academy/drone-catmouse/mice.tgz\n",
    " - tar -zxvf mice.tgz\n",
    " \n",
    "Where \"XXXXXX\" it's your user. So, in the mouse instruction, you have to change \"pablo\" name for your user name.\n",
    "\n",
    "### 2.4 Referee Component\n",
    "Also, you can run a referee to check the distance betwen your drone and the mouse_drone. The referee it's used to improve your algorithm."
   ]
  },
  {
   "cell_type": "markdown",
   "metadata": {},
   "source": [
    "## 3- Exercise initialization\n",
    "---\n",
    "First of all, we need to run the Gazebo simulator:"
   ]
  },
  {
   "cell_type": "code",
   "execution_count": 1,
   "metadata": {},
   "outputs": [],
   "source": [
    "import subprocess\n",
    "gazebo = subprocess.Popen((\"gazebo\", \"ardrone-trees-simple.world\"))"
   ]
  },
  {
   "cell_type": "markdown",
   "metadata": {},
   "source": [
    "After launch the gazebo simulator, we must wait a few second to let the gazebo's world be opened. Then a world like the one shows in the following picture should appears:\n",
    "\n",
    "<img src=\"images/world.png\" width=\"50%\" height=\"50%\">"
   ]
  },
  {
   "cell_type": "markdown",
   "metadata": {},
   "source": [
    "Before start the algorithm, we must launch de mouse drone:"
   ]
  },
  {
   "cell_type": "code",
   "execution_count": null,
   "metadata": {},
   "outputs": [],
   "source": [
    "mouse = subprocess.Popen((\"q1_mouse\", \"q1.cfg\"), cwd=\"/home/pablo/Jupyter/drone_cat_mouse/mice\")"
   ]
  },
  {
   "cell_type": "code",
   "execution_count": 2,
   "metadata": {},
   "outputs": [],
   "source": [
    "import sys\n",
    "import matplotlib\n",
    "\n",
    "referee = subprocess.Popen(\"/home/pablo/Jupyter/drone_cat_mouse/referee/referee.py /home/pablo/Jupyter/drone_cat_mouse/referee/referee.yml\", shell=True)\n"
   ]
  },
  {
   "cell_type": "markdown",
   "metadata": {},
   "source": [
    "Also, you can run the referee:"
   ]
  },
  {
   "cell_type": "code",
   "execution_count": 3,
   "metadata": {
    "scrolled": true
   },
   "outputs": [
    {
     "name": "stdout",
     "output_type": "stream",
     "text": [
      "loading Config file /home/pablo/Jupyter/drone_cat_mouse/referee/referee.yml\n",
      "Pose3D -t -e 1.1:tcp -h localhost -p 9000 -t 60000\n",
      "Pose3D -t -e 1.1:tcp -h localhost -p 9900 -t 60000\n"
     ]
    },
    {
     "data": {
      "image/png": "[encoded data removed]",
      "text/plain": [
       "<matplotlib.figure.Figure at 0x7f4f59002d50>"
      ]
     },
     "metadata": {},
     "output_type": "display_data"
    }
   ],
   "source": [
    "%matplotlib inline\n",
    "\n",
    "import matplotlib\n",
    "\n",
    "%gui qt\n",
    "%run /home/pablo/Jupyter/drone_cat_mouse/referee/referee.py /home/pablo/Jupyter/drone_cat_mouse/referee/referee.yml"
   ]
  },
  {
   "cell_type": "markdown",
   "metadata": {},
   "source": [
    "Then we import the necessary files:"
   ]
  },
  {
   "cell_type": "code",
   "execution_count": null,
   "metadata": {},
   "outputs": [],
   "source": [
    "#!/usr/bin/python\n",
    "#-*- coding: utf-8 -*-\n",
    "import threading\n",
    "import time\n",
    "import math\n",
    "import cv2\n",
    "import numpy as np\n",
    "from datetime import datetime\n",
    "\n",
    "from cat import Cat\n",
    "from printer import printImage\n",
    "\n",
    "time_cycle = 80"
   ]
  },
  {
   "cell_type": "markdown",
   "metadata": {},
   "source": [
    "To start coding, we need to call ``Cat`` class once. Run this code and wait a few seconds until follow line initialization finishes with an ``OK`` message:"
   ]
  },
  {
   "cell_type": "code",
   "execution_count": null,
   "metadata": {},
   "outputs": [],
   "source": [
    "%matplotlib inline\n",
    "\n",
    "ct = Cat()\n",
    "ct.play()"
   ]
  },
  {
   "cell_type": "markdown",
   "metadata": {},
   "source": [
    "Remember to send the takeoff order to the drone, so you can see anything on its camera:"
   ]
  },
  {
   "cell_type": "code",
   "execution_count": null,
   "metadata": {},
   "outputs": [],
   "source": [
    "ct.extra.takeoff()  #We will go over the drone's API in step 3.1"
   ]
  },
  {
   "cell_type": "markdown",
   "metadata": {},
   "source": [
    "Now we can start coding to give intelligence to the Formula1 robot. We can do it modifying the execute() method from Cat component. This method will be called iteratively. Each iteration, we'll print a message."
   ]
  },
  {
   "cell_type": "code",
   "execution_count": null,
   "metadata": {},
   "outputs": [],
   "source": [
    "# Implement execute method\n",
    "def execute(self):\n",
    "    print \"Running execute iteration\"\n",
    "      \n",
    "ct.setExecute(execute)"
   ]
  },
  {
   "cell_type": "markdown",
   "metadata": {},
   "source": [
    "Stop printing the updating of the method with an empty instruction:"
   ]
  },
  {
   "cell_type": "code",
   "execution_count": null,
   "metadata": {},
   "outputs": [],
   "source": [
    "def execute(self):\n",
    "    pass\n",
    "\n",
    "ct.setExecute(execute)"
   ]
  },
  {
   "cell_type": "markdown",
   "metadata": {},
   "source": [
    "### 3.1 - API\n",
    "---\n",
    " - Te way to send orders to the robot is the following:\n",
    "```\n",
    "self.cmdvel.sendCMDVel(valueX,valueY,0,0,0,0)\n",
    "```\n",
    "\n",
    "- You can also get navigation data with:\n",
    "```\n",
    "data = self.navdata.getNavData() \n",
    "```\n",
    "This will give you state (data.state), altitude (data.altd), vehicle (data.vehicle) and battery (data.batteryPercent).\n",
    "\n",
    "- Get the image from the camera as:\n",
    "```\n",
    "img = self.getImage()\n",
    "```\n",
    "- Finally, you can use the drone's API, that allows you to:\n",
    "```\n",
    "self.pose.getPose3d().x, self.pose.getPose3d().y, self.pose.getPose3d().z\n",
    "```\n",
    "returns the position values of the drone in space.\n",
    "```\n",
    "self.pose.getPose3d().roll, self.pose.getPose3d().pitch, self.pose.getPose3d().yaw\n",
    "```\n",
    "returns the rotation values of the drone in space.\n",
    "```\n",
    "self.extra.takeOff()\n",
    "```\n",
    "Takeoff of the drone.\n",
    "```\n",
    "self.extra.land()\n",
    "```\n",
    "landing of the drone."
   ]
  },
  {
   "cell_type": "markdown",
   "metadata": {},
   "source": [
    "To save the images, you can use the following commands:"
   ]
  },
  {
   "cell_type": "code",
   "execution_count": null,
   "metadata": {},
   "outputs": [],
   "source": [
    "def execute(self):\n",
    "    img = self.getImage()\n",
    "    self.set_color_image(img)\n",
    "    \n",
    "ct.setExecute(execute)"
   ]
  },
  {
   "cell_type": "markdown",
   "metadata": {},
   "source": [
    "When you have the image saved, you can use these instructions to show the camera images:"
   ]
  },
  {
   "cell_type": "code",
   "execution_count": null,
   "metadata": {},
   "outputs": [],
   "source": [
    "imageCamera = ct.get_color_image()\n",
    "printImage(imageCamera)"
   ]
  },
  {
   "cell_type": "markdown",
   "metadata": {},
   "source": [
    "Or you can use the following instructions to show the filtered images:"
   ]
  },
  {
   "cell_type": "code",
   "execution_count": null,
   "metadata": {},
   "outputs": [],
   "source": [
    "def execute(self):\n",
    "    img = self.getImage()\n",
    "    self.set_threshold_image(img)\n",
    "    \n",
    "ct.setExecute(execute)"
   ]
  },
  {
   "cell_type": "code",
   "execution_count": null,
   "metadata": {},
   "outputs": [],
   "source": [
    "segmentedImage = ct.get_threshold_image()\n",
    "printImage(segmentedImage)"
   ]
  }
 ],
 "metadata": {
  "kernelspec": {
   "display_name": "Python 2",
   "language": "python",
   "name": "python2"
  },
  "language_info": {
   "codemirror_mode": {
    "name": "ipython",
    "version": 2
   },
   "file_extension": ".py",
   "mimetype": "text/x-python",
   "name": "python",
   "nbconvert_exporter": "python",
   "pygments_lexer": "ipython2",
   "version": "2.7.12"
  }
 },
 "nbformat": 4,
 "nbformat_minor": 2
}
